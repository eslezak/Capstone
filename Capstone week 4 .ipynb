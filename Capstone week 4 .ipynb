{
    "cells": [
        {
            "cell_type": "markdown",
            "metadata": {},
            "source": "***The Battle of Neighborhoods (Week 1)***\n\n\n"
        },
        {
            "cell_type": "markdown",
            "metadata": {
                "collapsed": true
            },
            "source": "1. In NYC residence have harder times finding stores that carry healthier alternatives, this results in them having to go with unhealthier options. To aid in offering healthier alternatives, the president's office in each borough awards Bodegas & Grocery Stores recognition for carrying healthier alternatives. By looking at this data, it can be identified where there a gaps to help increase aid to these bodegas where healthier options are lacking.  \n\n"
        },
        {
            "cell_type": "markdown",
            "metadata": {},
            "source": "2. The data I am using was updated September 2020. I list all the stores that recieved recognition by borough. By analyzing this data, we can see how many stores that offer healthier alternatives. This can help make informed decision on providing assistance to additional stores where there is a gap. By providing healthier alternatives, this can help reduce health disparities, especially in lower income boroughs.  The data can be at this web address: https://catalog.data.gov/dataset/recognized-shop-healthy-stores and json: https://data.cityofnewyork.us/api/views/ud4g-9x9z/rows.json?accessType=DOWNLOAD"
        },
        {
            "cell_type": "code",
            "execution_count": null,
            "metadata": {},
            "outputs": [],
            "source": "3.I will use the 4 square API and k-means clustering to cluster the data to identify the number of stores that offer healthier options by  "
        }
    ],
    "metadata": {
        "kernelspec": {
            "display_name": "Python 3.7",
            "language": "python",
            "name": "python3"
        },
        "language_info": {
            "codemirror_mode": {
                "name": "ipython",
                "version": 3
            },
            "file_extension": ".py",
            "mimetype": "text/x-python",
            "name": "python",
            "nbconvert_exporter": "python",
            "pygments_lexer": "ipython3",
            "version": "3.7.9"
        }
    },
    "nbformat": 4,
    "nbformat_minor": 1
}